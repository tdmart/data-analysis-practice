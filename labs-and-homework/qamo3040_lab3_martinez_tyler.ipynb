{
 "cells": [
  {
   "cell_type": "markdown",
   "metadata": {},
   "source": [
    "# Lab 3: Hypothesis Testing and Regression\n",
    "\n",
    "- **Author:** Prof. Mu-Jeung Yang\n",
    "- **Version:** Fall 2018\n",
    "- **Course:** OAMO 3040: Business Econometrics II"
   ]
  },
  {
   "cell_type": "markdown",
   "metadata": {},
   "source": [
    "### Learning Objectives:\n",
    "By the end of the lab, you will be able to:\n",
    "\n",
    "* feel comfortably designing formulas for linear regression modeling\n",
    "* work comfortably with statsmodels library \n",
    "* create basic visualization of regression model"
   ]
  },
  {
   "cell_type": "markdown",
   "metadata": {},
   "source": [
    "### References: \n",
    " * [Scikit Learn Linear Models](http://scikit-learn.org/stable/modules/linear_model.html)\n",
    " * [Statsmodels](http://statsmodels.sourceforge.net/stable/index.html)\n",
    " * [Introduction to Statistical Learning, Lab #2](http://www-bcf.usc.edu/~gareth/ISL/Chapter%203%20Lab.txt)"
   ]
  },
  {
   "cell_type": "markdown",
   "metadata": {},
   "source": [
    "#### Import libraries\n",
    "\n",
    "These are libraries you worked with before:"
   ]
  },
  {
   "cell_type": "code",
   "execution_count": 1,
   "metadata": {},
   "outputs": [],
   "source": [
    "import pandas as pd\n",
    "import numpy as np\n",
    "import matplotlib.pyplot as plt  \n",
    "%matplotlib inline  "
   ]
  },
  {
   "cell_type": "markdown",
   "metadata": {},
   "source": [
    "#### New libraries\n",
    "\n",
    "For the first time, we will work with the library *statsmodels* to enable regressions etc"
   ]
  },
  {
   "cell_type": "code",
   "execution_count": 2,
   "metadata": {},
   "outputs": [],
   "source": [
    "import statsmodels.api as sm\n",
    "import statsmodels.formula.api as smf\n",
    "import scipy.stats as stats"
   ]
  },
  {
   "cell_type": "markdown",
   "metadata": {},
   "source": [
    "### Import Boston Housing data"
   ]
  },
  {
   "cell_type": "code",
   "execution_count": 3,
   "metadata": {},
   "outputs": [
    {
     "data": {
      "text/plain": [
       "{'data': array([[6.3200e-03, 1.8000e+01, 2.3100e+00, ..., 1.5300e+01, 3.9690e+02,\n",
       "         4.9800e+00],\n",
       "        [2.7310e-02, 0.0000e+00, 7.0700e+00, ..., 1.7800e+01, 3.9690e+02,\n",
       "         9.1400e+00],\n",
       "        [2.7290e-02, 0.0000e+00, 7.0700e+00, ..., 1.7800e+01, 3.9283e+02,\n",
       "         4.0300e+00],\n",
       "        ...,\n",
       "        [6.0760e-02, 0.0000e+00, 1.1930e+01, ..., 2.1000e+01, 3.9690e+02,\n",
       "         5.6400e+00],\n",
       "        [1.0959e-01, 0.0000e+00, 1.1930e+01, ..., 2.1000e+01, 3.9345e+02,\n",
       "         6.4800e+00],\n",
       "        [4.7410e-02, 0.0000e+00, 1.1930e+01, ..., 2.1000e+01, 3.9690e+02,\n",
       "         7.8800e+00]]),\n",
       " 'target': array([24. , 21.6, 34.7, 33.4, 36.2, 28.7, 22.9, 27.1, 16.5, 18.9, 15. ,\n",
       "        18.9, 21.7, 20.4, 18.2, 19.9, 23.1, 17.5, 20.2, 18.2, 13.6, 19.6,\n",
       "        15.2, 14.5, 15.6, 13.9, 16.6, 14.8, 18.4, 21. , 12.7, 14.5, 13.2,\n",
       "        13.1, 13.5, 18.9, 20. , 21. , 24.7, 30.8, 34.9, 26.6, 25.3, 24.7,\n",
       "        21.2, 19.3, 20. , 16.6, 14.4, 19.4, 19.7, 20.5, 25. , 23.4, 18.9,\n",
       "        35.4, 24.7, 31.6, 23.3, 19.6, 18.7, 16. , 22.2, 25. , 33. , 23.5,\n",
       "        19.4, 22. , 17.4, 20.9, 24.2, 21.7, 22.8, 23.4, 24.1, 21.4, 20. ,\n",
       "        20.8, 21.2, 20.3, 28. , 23.9, 24.8, 22.9, 23.9, 26.6, 22.5, 22.2,\n",
       "        23.6, 28.7, 22.6, 22. , 22.9, 25. , 20.6, 28.4, 21.4, 38.7, 43.8,\n",
       "        33.2, 27.5, 26.5, 18.6, 19.3, 20.1, 19.5, 19.5, 20.4, 19.8, 19.4,\n",
       "        21.7, 22.8, 18.8, 18.7, 18.5, 18.3, 21.2, 19.2, 20.4, 19.3, 22. ,\n",
       "        20.3, 20.5, 17.3, 18.8, 21.4, 15.7, 16.2, 18. , 14.3, 19.2, 19.6,\n",
       "        23. , 18.4, 15.6, 18.1, 17.4, 17.1, 13.3, 17.8, 14. , 14.4, 13.4,\n",
       "        15.6, 11.8, 13.8, 15.6, 14.6, 17.8, 15.4, 21.5, 19.6, 15.3, 19.4,\n",
       "        17. , 15.6, 13.1, 41.3, 24.3, 23.3, 27. , 50. , 50. , 50. , 22.7,\n",
       "        25. , 50. , 23.8, 23.8, 22.3, 17.4, 19.1, 23.1, 23.6, 22.6, 29.4,\n",
       "        23.2, 24.6, 29.9, 37.2, 39.8, 36.2, 37.9, 32.5, 26.4, 29.6, 50. ,\n",
       "        32. , 29.8, 34.9, 37. , 30.5, 36.4, 31.1, 29.1, 50. , 33.3, 30.3,\n",
       "        34.6, 34.9, 32.9, 24.1, 42.3, 48.5, 50. , 22.6, 24.4, 22.5, 24.4,\n",
       "        20. , 21.7, 19.3, 22.4, 28.1, 23.7, 25. , 23.3, 28.7, 21.5, 23. ,\n",
       "        26.7, 21.7, 27.5, 30.1, 44.8, 50. , 37.6, 31.6, 46.7, 31.5, 24.3,\n",
       "        31.7, 41.7, 48.3, 29. , 24. , 25.1, 31.5, 23.7, 23.3, 22. , 20.1,\n",
       "        22.2, 23.7, 17.6, 18.5, 24.3, 20.5, 24.5, 26.2, 24.4, 24.8, 29.6,\n",
       "        42.8, 21.9, 20.9, 44. , 50. , 36. , 30.1, 33.8, 43.1, 48.8, 31. ,\n",
       "        36.5, 22.8, 30.7, 50. , 43.5, 20.7, 21.1, 25.2, 24.4, 35.2, 32.4,\n",
       "        32. , 33.2, 33.1, 29.1, 35.1, 45.4, 35.4, 46. , 50. , 32.2, 22. ,\n",
       "        20.1, 23.2, 22.3, 24.8, 28.5, 37.3, 27.9, 23.9, 21.7, 28.6, 27.1,\n",
       "        20.3, 22.5, 29. , 24.8, 22. , 26.4, 33.1, 36.1, 28.4, 33.4, 28.2,\n",
       "        22.8, 20.3, 16.1, 22.1, 19.4, 21.6, 23.8, 16.2, 17.8, 19.8, 23.1,\n",
       "        21. , 23.8, 23.1, 20.4, 18.5, 25. , 24.6, 23. , 22.2, 19.3, 22.6,\n",
       "        19.8, 17.1, 19.4, 22.2, 20.7, 21.1, 19.5, 18.5, 20.6, 19. , 18.7,\n",
       "        32.7, 16.5, 23.9, 31.2, 17.5, 17.2, 23.1, 24.5, 26.6, 22.9, 24.1,\n",
       "        18.6, 30.1, 18.2, 20.6, 17.8, 21.7, 22.7, 22.6, 25. , 19.9, 20.8,\n",
       "        16.8, 21.9, 27.5, 21.9, 23.1, 50. , 50. , 50. , 50. , 50. , 13.8,\n",
       "        13.8, 15. , 13.9, 13.3, 13.1, 10.2, 10.4, 10.9, 11.3, 12.3,  8.8,\n",
       "         7.2, 10.5,  7.4, 10.2, 11.5, 15.1, 23.2,  9.7, 13.8, 12.7, 13.1,\n",
       "        12.5,  8.5,  5. ,  6.3,  5.6,  7.2, 12.1,  8.3,  8.5,  5. , 11.9,\n",
       "        27.9, 17.2, 27.5, 15. , 17.2, 17.9, 16.3,  7. ,  7.2,  7.5, 10.4,\n",
       "         8.8,  8.4, 16.7, 14.2, 20.8, 13.4, 11.7,  8.3, 10.2, 10.9, 11. ,\n",
       "         9.5, 14.5, 14.1, 16.1, 14.3, 11.7, 13.4,  9.6,  8.7,  8.4, 12.8,\n",
       "        10.5, 17.1, 18.4, 15.4, 10.8, 11.8, 14.9, 12.6, 14.1, 13. , 13.4,\n",
       "        15.2, 16.1, 17.8, 14.9, 14.1, 12.7, 13.5, 14.9, 20. , 16.4, 17.7,\n",
       "        19.5, 20.2, 21.4, 19.9, 19. , 19.1, 19.1, 20.1, 19.9, 19.6, 23.2,\n",
       "        29.8, 13.8, 13.3, 16.7, 12. , 14.6, 21.4, 23. , 23.7, 25. , 21.8,\n",
       "        20.6, 21.2, 19.1, 20.6, 15.2,  7. ,  8.1, 13.6, 20.1, 21.8, 24.5,\n",
       "        23.1, 19.7, 18.3, 21.2, 17.5, 16.8, 22.4, 20.6, 23.9, 22. , 11.9]),\n",
       " 'feature_names': array(['CRIM', 'ZN', 'INDUS', 'CHAS', 'NOX', 'RM', 'AGE', 'DIS', 'RAD',\n",
       "        'TAX', 'PTRATIO', 'B', 'LSTAT'], dtype='<U7'),\n",
       " 'DESCR': \".. _boston_dataset:\\n\\nBoston house prices dataset\\n---------------------------\\n\\n**Data Set Characteristics:**  \\n\\n    :Number of Instances: 506 \\n\\n    :Number of Attributes: 13 numeric/categorical predictive. Median Value (attribute 14) is usually the target.\\n\\n    :Attribute Information (in order):\\n        - CRIM     per capita crime rate by town\\n        - ZN       proportion of residential land zoned for lots over 25,000 sq.ft.\\n        - INDUS    proportion of non-retail business acres per town\\n        - CHAS     Charles River dummy variable (= 1 if tract bounds river; 0 otherwise)\\n        - NOX      nitric oxides concentration (parts per 10 million)\\n        - RM       average number of rooms per dwelling\\n        - AGE      proportion of owner-occupied units built prior to 1940\\n        - DIS      weighted distances to five Boston employment centres\\n        - RAD      index of accessibility to radial highways\\n        - TAX      full-value property-tax rate per $10,000\\n        - PTRATIO  pupil-teacher ratio by town\\n        - B        1000(Bk - 0.63)^2 where Bk is the proportion of blacks by town\\n        - LSTAT    % lower status of the population\\n        - MEDV     Median value of owner-occupied homes in $1000's\\n\\n    :Missing Attribute Values: None\\n\\n    :Creator: Harrison, D. and Rubinfeld, D.L.\\n\\nThis is a copy of UCI ML housing dataset.\\nhttps://archive.ics.uci.edu/ml/machine-learning-databases/housing/\\n\\n\\nThis dataset was taken from the StatLib library which is maintained at Carnegie Mellon University.\\n\\nThe Boston house-price data of Harrison, D. and Rubinfeld, D.L. 'Hedonic\\nprices and the demand for clean air', J. Environ. Economics & Management,\\nvol.5, 81-102, 1978.   Used in Belsley, Kuh & Welsch, 'Regression diagnostics\\n...', Wiley, 1980.   N.B. Various transformations are used in the table on\\npages 244-261 of the latter.\\n\\nThe Boston house-price data has been used in many machine learning papers that address regression\\nproblems.   \\n     \\n.. topic:: References\\n\\n   - Belsley, Kuh & Welsch, 'Regression diagnostics: Identifying Influential Data and Sources of Collinearity', Wiley, 1980. 244-261.\\n   - Quinlan,R. (1993). Combining Instance-Based and Model-Based Learning. In Proceedings on the Tenth International Conference of Machine Learning, 236-243, University of Massachusetts, Amherst. Morgan Kaufmann.\\n\",\n",
       " 'filename': 'c:\\\\users\\\\tdmar\\\\qamo-3040\\\\venv\\\\lib\\\\site-packages\\\\sklearn\\\\datasets\\\\data\\\\boston_house_prices.csv'}"
      ]
     },
     "execution_count": 3,
     "metadata": {},
     "output_type": "execute_result"
    }
   ],
   "source": [
    "from sklearn.datasets import load_boston\n",
    "bdata = load_boston()\n",
    "bdata"
   ]
  },
  {
   "cell_type": "code",
   "execution_count": 4,
   "metadata": {
    "scrolled": true
   },
   "outputs": [
    {
     "name": "stdout",
     "output_type": "stream",
     "text": [
      "dict_keys(['data', 'target', 'feature_names', 'DESCR', 'filename'])\n"
     ]
    }
   ],
   "source": [
    "print(bdata.keys())"
   ]
  },
  {
   "cell_type": "code",
   "execution_count": 5,
   "metadata": {},
   "outputs": [
    {
     "name": "stdout",
     "output_type": "stream",
     "text": [
      ".. _boston_dataset:\n",
      "\n",
      "Boston house prices dataset\n",
      "---------------------------\n",
      "\n",
      "**Data Set Characteristics:**  \n",
      "\n",
      "    :Number of Instances: 506 \n",
      "\n",
      "    :Number of Attributes: 13 numeric/categorical predictive. Median Value (attribute 14) is usually the target.\n",
      "\n",
      "    :Attribute Information (in order):\n",
      "        - CRIM     per capita crime rate by town\n",
      "        - ZN       proportion of residential land zoned for lots over 25,000 sq.ft.\n",
      "        - INDUS    proportion of non-retail business acres per town\n",
      "        - CHAS     Charles River dummy variable (= 1 if tract bounds river; 0 otherwise)\n",
      "        - NOX      nitric oxides concentration (parts per 10 million)\n",
      "        - RM       average number of rooms per dwelling\n",
      "        - AGE      proportion of owner-occupied units built prior to 1940\n",
      "        - DIS      weighted distances to five Boston employment centres\n",
      "        - RAD      index of accessibility to radial highways\n",
      "        - TAX      full-value property-tax rate per $10,000\n",
      "        - PTRATIO  pupil-teacher ratio by town\n",
      "        - B        1000(Bk - 0.63)^2 where Bk is the proportion of blacks by town\n",
      "        - LSTAT    % lower status of the population\n",
      "        - MEDV     Median value of owner-occupied homes in $1000's\n",
      "\n",
      "    :Missing Attribute Values: None\n",
      "\n",
      "    :Creator: Harrison, D. and Rubinfeld, D.L.\n",
      "\n",
      "This is a copy of UCI ML housing dataset.\n",
      "https://archive.ics.uci.edu/ml/machine-learning-databases/housing/\n",
      "\n",
      "\n",
      "This dataset was taken from the StatLib library which is maintained at Carnegie Mellon University.\n",
      "\n",
      "The Boston house-price data of Harrison, D. and Rubinfeld, D.L. 'Hedonic\n",
      "prices and the demand for clean air', J. Environ. Economics & Management,\n",
      "vol.5, 81-102, 1978.   Used in Belsley, Kuh & Welsch, 'Regression diagnostics\n",
      "...', Wiley, 1980.   N.B. Various transformations are used in the table on\n",
      "pages 244-261 of the latter.\n",
      "\n",
      "The Boston house-price data has been used in many machine learning papers that address regression\n",
      "problems.   \n",
      "     \n",
      ".. topic:: References\n",
      "\n",
      "   - Belsley, Kuh & Welsch, 'Regression diagnostics: Identifying Influential Data and Sources of Collinearity', Wiley, 1980. 244-261.\n",
      "   - Quinlan,R. (1993). Combining Instance-Based and Model-Based Learning. In Proceedings on the Tenth International Conference of Machine Learning, 236-243, University of Massachusetts, Amherst. Morgan Kaufmann.\n",
      "\n"
     ]
    }
   ],
   "source": [
    "print(bdata.DESCR)"
   ]
  },
  {
   "cell_type": "markdown",
   "metadata": {},
   "source": [
    "#### Convert data structure\n",
    "\n",
    "To be able to more conveniently use the data, let's convert it to a pandas DataFrame:"
   ]
  },
  {
   "cell_type": "code",
   "execution_count": 6,
   "metadata": {},
   "outputs": [],
   "source": [
    "boston = pd.DataFrame(bdata.data)\n",
    "boston.columns = bdata.feature_names[:]"
   ]
  },
  {
   "cell_type": "code",
   "execution_count": 7,
   "metadata": {},
   "outputs": [
    {
     "name": "stdout",
     "output_type": "stream",
     "text": [
      "      CRIM    ZN  INDUS  CHAS    NOX     RM   AGE     DIS  RAD    TAX  \\\n",
      "0  0.00632  18.0   2.31   0.0  0.538  6.575  65.2  4.0900  1.0  296.0   \n",
      "1  0.02731   0.0   7.07   0.0  0.469  6.421  78.9  4.9671  2.0  242.0   \n",
      "2  0.02729   0.0   7.07   0.0  0.469  7.185  61.1  4.9671  2.0  242.0   \n",
      "3  0.03237   0.0   2.18   0.0  0.458  6.998  45.8  6.0622  3.0  222.0   \n",
      "4  0.06905   0.0   2.18   0.0  0.458  7.147  54.2  6.0622  3.0  222.0   \n",
      "\n",
      "   PTRATIO       B  LSTAT  \n",
      "0     15.3  396.90   4.98  \n",
      "1     17.8  396.90   9.14  \n",
      "2     17.8  392.83   4.03  \n",
      "3     18.7  394.63   2.94  \n",
      "4     18.7  396.90   5.33  \n"
     ]
    }
   ],
   "source": [
    "print(boston.head(5))"
   ]
  },
  {
   "cell_type": "code",
   "execution_count": 8,
   "metadata": {},
   "outputs": [
    {
     "name": "stdout",
     "output_type": "stream",
     "text": [
      "      CRIM    ZN  INDUS  CHAS    NOX     RM   AGE     DIS  RAD    TAX  \\\n",
      "0  0.00632  18.0   2.31   0.0  0.538  6.575  65.2  4.0900  1.0  296.0   \n",
      "1  0.02731   0.0   7.07   0.0  0.469  6.421  78.9  4.9671  2.0  242.0   \n",
      "2  0.02729   0.0   7.07   0.0  0.469  7.185  61.1  4.9671  2.0  242.0   \n",
      "3  0.03237   0.0   2.18   0.0  0.458  6.998  45.8  6.0622  3.0  222.0   \n",
      "4  0.06905   0.0   2.18   0.0  0.458  7.147  54.2  6.0622  3.0  222.0   \n",
      "\n",
      "   PTRATIO       B  LSTAT  MEDV  \n",
      "0     15.3  396.90   4.98  24.0  \n",
      "1     17.8  396.90   9.14  21.6  \n",
      "2     17.8  392.83   4.03  34.7  \n",
      "3     18.7  394.63   2.94  33.4  \n",
      "4     18.7  396.90   5.33  36.2  \n"
     ]
    }
   ],
   "source": [
    "boston['MEDV'] = bdata.target\n",
    "print(boston.head(5))"
   ]
  },
  {
   "cell_type": "markdown",
   "metadata": {},
   "source": [
    "### 0. Data exploration\n",
    "We will build on what you already know from lab 2. \n",
    "#### <font color='blue'>EXCERCISE 1:</font>\n",
    "<font color='blue'>a) Show that the dataset does not contain any missing values. (Hint: use the command *dropna* for DataFrames, such as the \"boston\"-DataFrame here).</font>"
   ]
  },
  {
   "cell_type": "code",
   "execution_count": 9,
   "metadata": {},
   "outputs": [],
   "source": [
    "#Enter code\n",
    "boston.dropna(inplace=True)"
   ]
  },
  {
   "cell_type": "markdown",
   "metadata": {},
   "source": [
    "<font color='blue'>b) What is the median ratio of pupils to teachers and how does it differ from the mean?</font>"
   ]
  },
  {
   "cell_type": "code",
   "execution_count": 10,
   "metadata": {},
   "outputs": [
    {
     "name": "stdout",
     "output_type": "stream",
     "text": [
      "Median 19.05\n",
      "Mean 18.455533596837945\n"
     ]
    }
   ],
   "source": [
    "#Enter code\n",
    "print('Median', boston['PTRATIO'].median())\n",
    "print('Mean',boston['PTRATIO'].mean())"
   ]
  },
  {
   "cell_type": "markdown",
   "metadata": {},
   "source": [
    "The median is higher than the mean which means we have left-skewed data."
   ]
  },
  {
   "cell_type": "markdown",
   "metadata": {},
   "source": [
    "<font color='blue'>c) What are the five most expensive neighborhoods? What is the property tax rate in these neighborhoods? (Hint: use the Pandas sort_values command for the DataFrame)</font>"
   ]
  },
  {
   "cell_type": "code",
   "execution_count": 11,
   "metadata": {},
   "outputs": [
    {
     "name": "stdout",
     "output_type": "stream",
     "text": [
      "Neighborhood 283 Tax Rate: 1.98%\n",
      "Neighborhood 225 Tax Rate: 3.07%\n",
      "Neighborhood 369, 370, 371 Tax Rate: 6.67%\n"
     ]
    }
   ],
   "source": [
    "#Enter code\n",
    "boston.sort_values(by='MEDV', ascending=False)\n",
    "print('Neighborhood 283 Tax Rate: 1.98%')\n",
    "print('Neighborhood 225 Tax Rate: 3.07%')\n",
    "print('Neighborhood 369, 370, 371 Tax Rate: 6.67%')\n"
   ]
  },
  {
   "cell_type": "markdown",
   "metadata": {},
   "source": [
    "<font color='blue'>d) Generate a histogram as we did in lab 2. Now your task is to make the graph look pretty by adding the following features:  </font>\n",
    "\n",
    "* Add appropriate labels to the x and y axes, make sure to include units\n",
    "* Change the bin width on the histogram to be $1000\n",
    "* Remove the axes on the top and right side of the plot window\n",
    "* Change the color of the bars to be green, and remove the black borders from the bars"
   ]
  },
  {
   "cell_type": "code",
   "execution_count": 12,
   "metadata": {},
   "outputs": [
    {
     "data": {
      "image/png": "[encoded data removed]",
      "text/plain": [
       "<Figure size 432x288 with 1 Axes>"
      ]
     },
     "metadata": {
      "needs_background": "light"
     },
     "output_type": "display_data"
    }
   ],
   "source": [
    "#Enter code\n",
    "i = 0\n",
    "bins = []\n",
    "while i < 50:\n",
    "    i += 1\n",
    "    bins.append(i)\n",
    "\n",
    "ax = plt.subplot()\n",
    "ax.hist(boston['MEDV'], bins=bins, facecolor='green', edgecolor='none')\n",
    "plt.xlabel('Median Home Value')\n",
    "plt.ylabel('Number of observations')\n",
    "ax.spines['right'].set_visible(False)\n",
    "ax.spines['top'].set_visible(False)\n",
    "plt.show()"
   ]
  },
  {
   "cell_type": "markdown",
   "metadata": {},
   "source": [
    "<font color='blue'>e) Use matplotlib to create a scatter plot that shows the relationship between the median value of the home (y-axis) and the per-capita crime rate (x-axis).  Properly label your axes, and make sure that your graphic looks polished and professional.  </font>"
   ]
  },
  {
   "cell_type": "code",
   "execution_count": 13,
   "metadata": {},
   "outputs": [
    {
     "data": {
      "image/png": "[encoded data removed]",
      "text/plain": [
       "<Figure size 432x288 with 1 Axes>"
      ]
     },
     "metadata": {
      "needs_background": "light"
     },
     "output_type": "display_data"
    }
   ],
   "source": [
    "#Enter code\n",
    "plt.figure()\n",
    "plt.scatter(boston['CRIM'], boston['MEDV'])\n",
    "plt.xlabel('Per-capita crime rate')\n",
    "plt.ylabel('Median home value')\n",
    "plt.show()"
   ]
  },
  {
   "cell_type": "markdown",
   "metadata": {},
   "source": [
    "### 1. T-Tests"
   ]
  },
  {
   "cell_type": "code",
   "execution_count": 14,
   "metadata": {},
   "outputs": [],
   "source": [
    "river_t = boston[boston.CHAS == 1]\n",
    "river_f = boston[boston.CHAS == 0]"
   ]
  },
  {
   "cell_type": "code",
   "execution_count": 15,
   "metadata": {},
   "outputs": [
    {
     "name": "stdout",
     "output_type": "stream",
     "text": [
      "1.0    35\n",
      "Name: CHAS, dtype: int64\n",
      "0.0    471\n",
      "Name: CHAS, dtype: int64\n"
     ]
    }
   ],
   "source": [
    "print(river_t['CHAS'].value_counts())\n",
    "print(river_f['CHAS'].value_counts())"
   ]
  },
  {
   "cell_type": "markdown",
   "metadata": {},
   "source": [
    "#### Conducting the T-Test and printing the results"
   ]
  },
  {
   "cell_type": "code",
   "execution_count": 16,
   "metadata": {},
   "outputs": [
    {
     "name": "stdout",
     "output_type": "stream",
     "text": [
      "Average price for neighborhoods near the Charles River:\t\t 28.439999999999998\n",
      "Average price for neighborhoods not near the Charles River:\t 22.093842887473464\n"
     ]
    }
   ],
   "source": [
    "mean_river_t = river_t['MEDV'].mean()\n",
    "mean_river_f = river_f['MEDV'].mean()\n",
    "print('Average price for neighborhoods near the Charles River:\\t\\t', mean_river_t)\n",
    "print('Average price for neighborhoods not near the Charles River:\\t', mean_river_f)"
   ]
  },
  {
   "cell_type": "code",
   "execution_count": 17,
   "metadata": {},
   "outputs": [
    {
     "name": "stdout",
     "output_type": "stream",
     "text": [
      "t-stat:\t\t\t 3.996437466090509\n",
      "P-value:\t\t 7.390623170519905e-05\n"
     ]
    }
   ],
   "source": [
    "tstat, pval = stats.ttest_ind(river_t['MEDV'].fillna(0), river_f['MEDV'].fillna(0))\n",
    "print('t-stat:\\t\\t\\t', tstat)\n",
    "print('P-value:\\t\\t', pval)"
   ]
  },
  {
   "cell_type": "markdown",
   "metadata": {},
   "source": [
    "#### <font color='blue'>EXCERCISE 2:</font> T-Test the relation of house prices and school quality\n",
    "\n",
    "Many first-time home buyers are young families, who are looking for neighborhoods with good schools, their children can attend. Therefore a natural question is whether neighborhoods with better schools are systematically more expensive in terms of house prices than neighborhoods with low quality schools. We will investigate this question below using regression analysis, but can also look at it, using a simple T-test.\n",
    "\n",
    "<font color='blue'>a) Create a school quality variable called \"school_g\", that is \"yes\" if the pupil to teacher ratio (PTRATIO) is below 16 and \"no\" otherwise. (Hint: use the numpy command \"where\", we used in lab 2.) Display your results as part of the dataset using the Pandas *head()* command.</font>"
   ]
  },
  {
   "cell_type": "code",
   "execution_count": 18,
   "metadata": {},
   "outputs": [
    {
     "data": {
      "text/html": [
       "<div>\n",
       "<style scoped>\n",
       "    .dataframe tbody tr th:only-of-type {\n",
       "        vertical-align: middle;\n",
       "    }\n",
       "\n",
       "    .dataframe tbody tr th {\n",
       "        vertical-align: top;\n",
       "    }\n",
       "\n",
       "    .dataframe thead th {\n",
       "        text-align: right;\n",
       "    }\n",
       "</style>\n",
       "<table border=\"1\" class=\"dataframe\">\n",
       "  <thead>\n",
       "    <tr style=\"text-align: right;\">\n",
       "      <th></th>\n",
       "      <th>CRIM</th>\n",
       "      <th>ZN</th>\n",
       "      <th>INDUS</th>\n",
       "      <th>CHAS</th>\n",
       "      <th>NOX</th>\n",
       "      <th>RM</th>\n",
       "      <th>AGE</th>\n",
       "      <th>DIS</th>\n",
       "      <th>RAD</th>\n",
       "      <th>TAX</th>\n",
       "      <th>PTRATIO</th>\n",
       "      <th>B</th>\n",
       "      <th>LSTAT</th>\n",
       "      <th>MEDV</th>\n",
       "      <th>school_g</th>\n",
       "    </tr>\n",
       "  </thead>\n",
       "  <tbody>\n",
       "    <tr>\n",
       "      <td>0</td>\n",
       "      <td>0.00632</td>\n",
       "      <td>18.0</td>\n",
       "      <td>2.31</td>\n",
       "      <td>0.0</td>\n",
       "      <td>0.538</td>\n",
       "      <td>6.575</td>\n",
       "      <td>65.2</td>\n",
       "      <td>4.0900</td>\n",
       "      <td>1.0</td>\n",
       "      <td>296.0</td>\n",
       "      <td>15.3</td>\n",
       "      <td>396.90</td>\n",
       "      <td>4.98</td>\n",
       "      <td>24.0</td>\n",
       "      <td>yes</td>\n",
       "    </tr>\n",
       "    <tr>\n",
       "      <td>1</td>\n",
       "      <td>0.02731</td>\n",
       "      <td>0.0</td>\n",
       "      <td>7.07</td>\n",
       "      <td>0.0</td>\n",
       "      <td>0.469</td>\n",
       "      <td>6.421</td>\n",
       "      <td>78.9</td>\n",
       "      <td>4.9671</td>\n",
       "      <td>2.0</td>\n",
       "      <td>242.0</td>\n",
       "      <td>17.8</td>\n",
       "      <td>396.90</td>\n",
       "      <td>9.14</td>\n",
       "      <td>21.6</td>\n",
       "      <td>no</td>\n",
       "    </tr>\n",
       "    <tr>\n",
       "      <td>2</td>\n",
       "      <td>0.02729</td>\n",
       "      <td>0.0</td>\n",
       "      <td>7.07</td>\n",
       "      <td>0.0</td>\n",
       "      <td>0.469</td>\n",
       "      <td>7.185</td>\n",
       "      <td>61.1</td>\n",
       "      <td>4.9671</td>\n",
       "      <td>2.0</td>\n",
       "      <td>242.0</td>\n",
       "      <td>17.8</td>\n",
       "      <td>392.83</td>\n",
       "      <td>4.03</td>\n",
       "      <td>34.7</td>\n",
       "      <td>no</td>\n",
       "    </tr>\n",
       "    <tr>\n",
       "      <td>3</td>\n",
       "      <td>0.03237</td>\n",
       "      <td>0.0</td>\n",
       "      <td>2.18</td>\n",
       "      <td>0.0</td>\n",
       "      <td>0.458</td>\n",
       "      <td>6.998</td>\n",
       "      <td>45.8</td>\n",
       "      <td>6.0622</td>\n",
       "      <td>3.0</td>\n",
       "      <td>222.0</td>\n",
       "      <td>18.7</td>\n",
       "      <td>394.63</td>\n",
       "      <td>2.94</td>\n",
       "      <td>33.4</td>\n",
       "      <td>no</td>\n",
       "    </tr>\n",
       "    <tr>\n",
       "      <td>4</td>\n",
       "      <td>0.06905</td>\n",
       "      <td>0.0</td>\n",
       "      <td>2.18</td>\n",
       "      <td>0.0</td>\n",
       "      <td>0.458</td>\n",
       "      <td>7.147</td>\n",
       "      <td>54.2</td>\n",
       "      <td>6.0622</td>\n",
       "      <td>3.0</td>\n",
       "      <td>222.0</td>\n",
       "      <td>18.7</td>\n",
       "      <td>396.90</td>\n",
       "      <td>5.33</td>\n",
       "      <td>36.2</td>\n",
       "      <td>no</td>\n",
       "    </tr>\n",
       "  </tbody>\n",
       "</table>\n",
       "</div>"
      ],
      "text/plain": [
       "      CRIM    ZN  INDUS  CHAS    NOX     RM   AGE     DIS  RAD    TAX  \\\n",
       "0  0.00632  18.0   2.31   0.0  0.538  6.575  65.2  4.0900  1.0  296.0   \n",
       "1  0.02731   0.0   7.07   0.0  0.469  6.421  78.9  4.9671  2.0  242.0   \n",
       "2  0.02729   0.0   7.07   0.0  0.469  7.185  61.1  4.9671  2.0  242.0   \n",
       "3  0.03237   0.0   2.18   0.0  0.458  6.998  45.8  6.0622  3.0  222.0   \n",
       "4  0.06905   0.0   2.18   0.0  0.458  7.147  54.2  6.0622  3.0  222.0   \n",
       "\n",
       "   PTRATIO       B  LSTAT  MEDV school_g  \n",
       "0     15.3  396.90   4.98  24.0      yes  \n",
       "1     17.8  396.90   9.14  21.6       no  \n",
       "2     17.8  392.83   4.03  34.7       no  \n",
       "3     18.7  394.63   2.94  33.4       no  \n",
       "4     18.7  396.90   5.33  36.2       no  "
      ]
     },
     "execution_count": 18,
     "metadata": {},
     "output_type": "execute_result"
    }
   ],
   "source": [
    "#Enter code\n",
    "boston['school_g'] = np.where(boston['PTRATIO'] < 16, \"yes\", \"no\")\n",
    "boston.head()"
   ]
  },
  {
   "cell_type": "markdown",
   "metadata": {},
   "source": [
    "<font color='blue'>b) Now create two different subset variables, one containing neighborhoods with \"good schools\" are defined in exercise 2a (call this subset \"gschool_1\") and one subset of neighborhood without good schools (call this \"gschool_0\").</font>"
   ]
  },
  {
   "cell_type": "code",
   "execution_count": 19,
   "metadata": {},
   "outputs": [],
   "source": [
    "#Enter code\n",
    "gschool_1 = boston.loc[boston['school_g']==\"yes\"]\n",
    "gschool_0 = boston.loc[boston['school_g']==\"no\"]"
   ]
  },
  {
   "cell_type": "markdown",
   "metadata": {},
   "source": [
    "<font color='blue'>c) What is the average price for houses in neighborhoods with good schools? How does it differ from neighborhoods without good schools?</font>"
   ]
  },
  {
   "cell_type": "code",
   "execution_count": 20,
   "metadata": {},
   "outputs": [
    {
     "name": "stdout",
     "output_type": "stream",
     "text": [
      "Median home value in good school neighborhoods: 29.64875\n",
      "Median home value in good school neighborhoods: 21.196478873239435\n"
     ]
    }
   ],
   "source": [
    "#Enter code\n",
    "print('Median home value in good school neighborhoods:', gschool_1['MEDV'].mean())\n",
    "print('Median home value in good school neighborhoods:', gschool_0['MEDV'].mean())"
   ]
  },
  {
   "cell_type": "markdown",
   "metadata": {},
   "source": [
    "As we would expect, home values are higher if they are near a good school."
   ]
  },
  {
   "cell_type": "markdown",
   "metadata": {},
   "source": [
    "<font color='blue'>d) Conduct a T-test on whether prices in neighborhoods with good schools are statistically different from neighborhoods without good schools. What do you conclude from these tests?</font>"
   ]
  },
  {
   "cell_type": "code",
   "execution_count": 21,
   "metadata": {},
   "outputs": [
    {
     "name": "stdout",
     "output_type": "stream",
     "text": [
      "t-stat: \t 7.99865790105808\n",
      "p-val: \t\t 8.689457290077605e-15\n"
     ]
    }
   ],
   "source": [
    "#Enter code\n",
    "tstat, pval = stats.ttest_ind(gschool_1['MEDV'].fillna(0), gschool_0['MEDV'].fillna(0))\n",
    "print('t-stat: \\t', tstat)\n",
    "print('p-val: \\t\\t', pval)\n",
    "# Home values differences across neighborhoods are very statistically significant."
   ]
  },
  {
   "cell_type": "markdown",
   "metadata": {},
   "source": [
    "### 2. Univariate regression"
   ]
  },
  {
   "cell_type": "code",
   "execution_count": 22,
   "metadata": {},
   "outputs": [],
   "source": [
    "# smf.ols?"
   ]
  },
  {
   "cell_type": "code",
   "execution_count": 23,
   "metadata": {},
   "outputs": [
    {
     "name": "stdout",
     "output_type": "stream",
     "text": [
      "                            OLS Regression Results                            \n",
      "==============================================================================\n",
      "Dep. Variable:                   MEDV   R-squared:                       0.151\n",
      "Model:                            OLS   Adj. R-squared:                  0.149\n",
      "Method:                 Least Squares   F-statistic:                     89.49\n",
      "Date:                Tue, 10 Sep 2019   Prob (F-statistic):           1.17e-19\n",
      "Time:                        16:25:24   Log-Likelihood:                -1798.9\n",
      "No. Observations:                 506   AIC:                             3602.\n",
      "Df Residuals:                     504   BIC:                             3610.\n",
      "Df Model:                           1                                         \n",
      "Covariance Type:            nonrobust                                         \n",
      "==============================================================================\n",
      "                 coef    std err          t      P>|t|      [0.025      0.975]\n",
      "------------------------------------------------------------------------------\n",
      "Intercept     24.0331      0.409     58.740      0.000      23.229      24.837\n",
      "CRIM          -0.4152      0.044     -9.460      0.000      -0.501      -0.329\n",
      "==============================================================================\n",
      "Omnibus:                      139.832   Durbin-Watson:                   0.713\n",
      "Prob(Omnibus):                  0.000   Jarque-Bera (JB):              295.404\n",
      "Skew:                           1.490   Prob(JB):                     7.14e-65\n",
      "Kurtosis:                       5.264   Cond. No.                         10.1\n",
      "==============================================================================\n",
      "\n",
      "Warnings:\n",
      "[1] Standard Errors assume that the covariance matrix of the errors is correctly specified.\n"
     ]
    }
   ],
   "source": [
    "uni_mod = smf.ols(formula='MEDV ~ CRIM', data=boston)\n",
    "uni_result = uni_mod.fit()\n",
    "print(uni_result.summary())"
   ]
  },
  {
   "cell_type": "markdown",
   "metadata": {},
   "source": [
    "** Get estimates of parameters **"
   ]
  },
  {
   "cell_type": "code",
   "execution_count": 24,
   "metadata": {},
   "outputs": [
    {
     "name": "stdout",
     "output_type": "stream",
     "text": [
      "Intercept    24.033106\n",
      "CRIM         -0.415190\n",
      "dtype: float64\n"
     ]
    }
   ],
   "source": [
    "print(uni_result.params)"
   ]
  },
  {
   "cell_type": "markdown",
   "metadata": {},
   "source": [
    "** Check the pvalues **"
   ]
  },
  {
   "cell_type": "code",
   "execution_count": 25,
   "metadata": {},
   "outputs": [
    {
     "name": "stdout",
     "output_type": "stream",
     "text": [
      "Intercept    1.341723e-227\n",
      "CRIM          1.173987e-19\n",
      "dtype: float64\n"
     ]
    }
   ],
   "source": [
    "print(uni_result.pvalues)"
   ]
  },
  {
   "cell_type": "markdown",
   "metadata": {},
   "source": [
    "** Plot the regression model **\n"
   ]
  },
  {
   "cell_type": "code",
   "execution_count": 26,
   "metadata": {},
   "outputs": [],
   "source": [
    "y_hat = uni_result.predict()"
   ]
  },
  {
   "cell_type": "code",
   "execution_count": 27,
   "metadata": {},
   "outputs": [
    {
     "data": {
      "text/plain": [
       "<matplotlib.collections.PathCollection at 0x25db9b37d68>"
      ]
     },
     "execution_count": 27,
     "metadata": {},
     "output_type": "execute_result"
    },
    {
     "data": {
      "image/png": "[encoded data removed]",
      "text/plain": [
       "<Figure size 432x288 with 1 Axes>"
      ]
     },
     "metadata": {
      "needs_background": "light"
     },
     "output_type": "display_data"
    }
   ],
   "source": [
    "fig, ax = plt.subplots()\n",
    "ax.plot(boston['CRIM'], y_hat, color = 'red')\n",
    "ax.scatter(boston['CRIM'], boston['MEDV'])"
   ]
  },
  {
   "cell_type": "markdown",
   "metadata": {},
   "source": [
    "#### <font color='blue'>EXCERCISE 3:</font>\n",
    "\n",
    "<font color='blue'>Clean up the displayed regression graph by adding:</font>\n",
    "\n",
    "* Labels for the x and y axis\n",
    "* A title, describing what the graph captures\n",
    "* Better definitions of the ranges for the axes, which should be from 0 to 50 for the y values and 0 to 100 for the x calues\n",
    "* A grid, so the position of data points relative to axis values can be seen easily"
   ]
  },
  {
   "cell_type": "code",
   "execution_count": 28,
   "metadata": {},
   "outputs": [
    {
     "data": {
      "image/png": "[encoded data removed]",
      "text/plain": [
       "<Figure size 432x288 with 1 Axes>"
      ]
     },
     "metadata": {
      "needs_background": "light"
     },
     "output_type": "display_data"
    }
   ],
   "source": [
    "#Enter code\n",
    "fig, ax = plt.subplots()\n",
    "ax.plot(boston['CRIM'], y_hat, color = 'red')\n",
    "ax.scatter(boston['CRIM'], boston['MEDV'])\n",
    "ax.set_xlim([0, 100])\n",
    "ax.set_ylim([0, 50])\n",
    "plt.xlabel('Crime rate')\n",
    "plt.ylabel('Median home value')\n",
    "plt.title('Median home value with respect to crime rate')\n",
    "plt.grid()"
   ]
  },
  {
   "cell_type": "markdown",
   "metadata": {},
   "source": [
    "### 3.  Multivariate regressions"
   ]
  },
  {
   "cell_type": "code",
   "execution_count": 29,
   "metadata": {},
   "outputs": [
    {
     "name": "stdout",
     "output_type": "stream",
     "text": [
      "                            OLS Regression Results                            \n",
      "==============================================================================\n",
      "Dep. Variable:                   MEDV   R-squared:                       0.321\n",
      "Model:                            OLS   Adj. R-squared:                  0.319\n",
      "Method:                 Least Squares   F-statistic:                     76.38\n",
      "Date:                Tue, 10 Sep 2019   Prob (F-statistic):           1.08e-29\n",
      "Time:                        16:25:25   Log-Likelihood:                -1742.2\n",
      "No. Observations:                 506   AIC:                             3490.\n",
      "Df Residuals:                     503   BIC:                             3503.\n",
      "Df Model:                           2                                         \n",
      "Covariance Type:                  HC3                                         \n",
      "==============================================================================\n",
      "                 coef    std err          z      P>|z|      [0.025      0.975]\n",
      "------------------------------------------------------------------------------\n",
      "Intercept     57.3783      3.734     15.366      0.000      50.060      64.697\n",
      "CRIM          -0.2814      0.056     -5.011      0.000      -0.391      -0.171\n",
      "PTRATIO       -1.8330      0.197     -9.291      0.000      -2.220      -1.446\n",
      "==============================================================================\n",
      "Omnibus:                      130.994   Durbin-Watson:                   0.819\n",
      "Prob(Omnibus):                  0.000   Jarque-Bera (JB):              334.702\n",
      "Skew:                           1.287   Prob(JB):                     2.09e-73\n",
      "Kurtosis:                       6.041   Cond. No.                         169.\n",
      "==============================================================================\n",
      "\n",
      "Warnings:\n",
      "[1] Standard Errors are heteroscedasticity robust (HC3)\n"
     ]
    }
   ],
   "source": [
    "mul_mod = smf.ols(formula='MEDV ~ CRIM + PTRATIO', data = boston)\n",
    "mul_result = mul_mod.fit(cov_type='HC3')\n",
    "print(mul_result.summary())"
   ]
  },
  {
   "cell_type": "markdown",
   "metadata": {},
   "source": [
    "#### <font color='blue'>EXCERCISE 4:</font>\n",
    "<font color='blue'>Run a univariate regression of house prices on (inverse) school quality as measured by the PTRATIO. How does your univariate regression coefficient compare to the multivariate regression coefficient from a regression of house prices on crime rates and (inverse) school quality? What could explain the differences?</font>\n",
    "\n",
    "\n"
   ]
  },
  {
   "cell_type": "code",
   "execution_count": 30,
   "metadata": {},
   "outputs": [
    {
     "name": "stdout",
     "output_type": "stream",
     "text": [
      "                            OLS Regression Results                            \n",
      "==============================================================================\n",
      "Dep. Variable:                   MEDV   R-squared:                       0.247\n",
      "Model:                            OLS   Adj. R-squared:                  0.245\n",
      "Method:                 Least Squares   F-statistic:                     116.5\n",
      "Date:                Tue, 10 Sep 2019   Prob (F-statistic):           1.43e-24\n",
      "Time:                        16:25:25   Log-Likelihood:                -1768.6\n",
      "No. Observations:                 506   AIC:                             3541.\n",
      "Df Residuals:                     504   BIC:                             3550.\n",
      "Df Model:                           1                                         \n",
      "Covariance Type:                  HC3                                         \n",
      "===============================================================================\n",
      "                  coef    std err          z      P>|z|      [0.025      0.975]\n",
      "-------------------------------------------------------------------------------\n",
      "Intercept     -11.7986      3.093     -3.815      0.000     -17.861      -5.736\n",
      "inv_PTRATIO   623.8260     57.800     10.793      0.000     510.539     737.113\n",
      "==============================================================================\n",
      "Omnibus:                       90.356   Durbin-Watson:                   0.712\n",
      "Prob(Omnibus):                  0.000   Jarque-Bera (JB):              180.977\n",
      "Skew:                           0.987   Prob(JB):                     5.03e-40\n",
      "Kurtosis:                       5.164   Cond. No.                         137.\n",
      "==============================================================================\n",
      "\n",
      "Warnings:\n",
      "[1] Standard Errors are heteroscedasticity robust (HC3)\n",
      "                            OLS Regression Results                            \n",
      "==============================================================================\n",
      "Dep. Variable:                   MEDV   R-squared:                       0.317\n",
      "Model:                            OLS   Adj. R-squared:                  0.314\n",
      "Method:                 Least Squares   F-statistic:                     71.43\n",
      "Date:                Tue, 10 Sep 2019   Prob (F-statistic):           4.94e-28\n",
      "Time:                        16:25:25   Log-Likelihood:                -1743.9\n",
      "No. Observations:                 506   AIC:                             3494.\n",
      "Df Residuals:                     503   BIC:                             3506.\n",
      "Df Model:                           2                                         \n",
      "Covariance Type:                  HC3                                         \n",
      "===============================================================================\n",
      "                  coef    std err          z      P>|z|      [0.025      0.975]\n",
      "-------------------------------------------------------------------------------\n",
      "Intercept      -5.6378      3.206     -1.759      0.079     -11.921       0.646\n",
      "inv_PTRATIO   531.1672     59.146      8.981      0.000     415.242     647.092\n",
      "CRIM           -0.2938      0.058     -5.022      0.000      -0.408      -0.179\n",
      "==============================================================================\n",
      "Omnibus:                      129.894   Durbin-Watson:                   0.817\n",
      "Prob(Omnibus):                  0.000   Jarque-Bera (JB):              325.798\n",
      "Skew:                           1.285   Prob(JB):                     1.79e-71\n",
      "Kurtosis:                       5.975   Cond. No.                     1.33e+03\n",
      "==============================================================================\n",
      "\n",
      "Warnings:\n",
      "[1] Standard Errors are heteroscedasticity robust (HC3)\n",
      "[2] The condition number is large, 1.33e+03. This might indicate that there are\n",
      "strong multicollinearity or other numerical problems.\n"
     ]
    }
   ],
   "source": [
    "#Enter code\n",
    "boston['inv_PTRATIO'] = 1/boston['PTRATIO']\n",
    "school_mod = smf.ols(formula='MEDV ~ inv_PTRATIO', data=boston)\n",
    "school_result = school_mod.fit(cov_type='HC3')\n",
    "print(school_result.summary())\n",
    "\n",
    "school_mod_mult = smf.ols(formula='MEDV ~ inv_PTRATIO + CRIM', data=boston)\n",
    "school_result_mult = school_mod_mult.fit(cov_type='HC3')\n",
    "print(school_result_mult.summary())"
   ]
  },
  {
   "cell_type": "markdown",
   "metadata": {},
   "source": [
    "Taking crime rate into account lowers the magnitude of school quality but increases the intercept. Crime negatively affects home prices so the sign of the coefficient matches what we would expect. When we weren't including crime, the intercept and the inv_PTRATIO variable were being affected by the effects of Crime. When we include crime our model changes to correct for bias."
   ]
  },
  {
   "cell_type": "markdown",
   "metadata": {},
   "source": [
    "** Non-linear transformation of the predictors **\n"
   ]
  },
  {
   "cell_type": "code",
   "execution_count": 31,
   "metadata": {},
   "outputs": [
    {
     "name": "stdout",
     "output_type": "stream",
     "text": [
      "                            OLS Regression Results                            \n",
      "==============================================================================\n",
      "Dep. Variable:                   MEDV   R-squared:                       0.210\n",
      "Model:                            OLS   Adj. R-squared:                  0.207\n",
      "Method:                 Least Squares   F-statistic:                     66.80\n",
      "Date:                Tue, 10 Sep 2019   Prob (F-statistic):           1.87e-26\n",
      "Time:                        16:25:25   Log-Likelihood:                -1780.6\n",
      "No. Observations:                 506   AIC:                             3567.\n",
      "Df Residuals:                     503   BIC:                             3580.\n",
      "Df Model:                           2                                         \n",
      "Covariance Type:            nonrobust                                         \n",
      "=====================================================================================\n",
      "                        coef    std err          t      P>|t|      [0.025      0.975]\n",
      "-------------------------------------------------------------------------------------\n",
      "Intercept            24.9281      0.421     59.193      0.000      24.101      25.756\n",
      "CRIM                 -0.8761      0.086    -10.155      0.000      -1.046      -0.707\n",
      "np.power(CRIM, 2)     0.0089      0.001      6.133      0.000       0.006       0.012\n",
      "==============================================================================\n",
      "Omnibus:                      159.780   Durbin-Watson:                   0.690\n",
      "Prob(Omnibus):                  0.000   Jarque-Bera (JB):              396.271\n",
      "Skew:                           1.608   Prob(JB):                     8.93e-87\n",
      "Kurtosis:                       5.908   Cond. No.                         605.\n",
      "==============================================================================\n",
      "\n",
      "Warnings:\n",
      "[1] Standard Errors assume that the covariance matrix of the errors is correctly specified.\n"
     ]
    }
   ],
   "source": [
    "non_linear_mod = smf.ols(formula='MEDV ~ CRIM + np.power(CRIM, 2)', data = boston)\n",
    "non_linear_result = non_linear_mod.fit()\n",
    "print(non_linear_result.summary())"
   ]
  },
  {
   "cell_type": "markdown",
   "metadata": {},
   "source": [
    "** Interaction terms **\n"
   ]
  },
  {
   "cell_type": "code",
   "execution_count": 32,
   "metadata": {},
   "outputs": [
    {
     "name": "stdout",
     "output_type": "stream",
     "text": [
      "                            OLS Regression Results                            \n",
      "==============================================================================\n",
      "Dep. Variable:                   MEDV   R-squared:                       0.364\n",
      "Model:                            OLS   Adj. R-squared:                  0.361\n",
      "Method:                 Least Squares   F-statistic:                     74.95\n",
      "Date:                Tue, 10 Sep 2019   Prob (F-statistic):           4.52e-40\n",
      "Time:                        16:25:25   Log-Likelihood:                -1725.6\n",
      "No. Observations:                 506   AIC:                             3459.\n",
      "Df Residuals:                     502   BIC:                             3476.\n",
      "Df Model:                           3                                         \n",
      "Covariance Type:                  HC3                                         \n",
      "================================================================================\n",
      "                   coef    std err          z      P>|z|      [0.025      0.975]\n",
      "--------------------------------------------------------------------------------\n",
      "Intercept       69.2465      3.891     17.798      0.000      61.621      76.872\n",
      "CRIM           -15.8667      2.951     -5.377      0.000     -21.650     -10.083\n",
      "PTRATIO         -2.4432      0.204    -11.951      0.000      -2.844      -2.042\n",
      "CRIM:PTRATIO     0.7729      0.146      5.281      0.000       0.486       1.060\n",
      "==============================================================================\n",
      "Omnibus:                      165.128   Durbin-Watson:                   0.864\n",
      "Prob(Omnibus):                  0.000   Jarque-Bera (JB):              508.068\n",
      "Skew:                           1.546   Prob(JB):                    4.73e-111\n",
      "Kurtosis:                       6.812   Cond. No.                     2.30e+03\n",
      "==============================================================================\n",
      "\n",
      "Warnings:\n",
      "[1] Standard Errors are heteroscedasticity robust (HC3)\n",
      "[2] The condition number is large, 2.3e+03. This might indicate that there are\n",
      "strong multicollinearity or other numerical problems.\n"
     ]
    }
   ],
   "source": [
    "itr_mod = smf.ols(formula='MEDV ~ CRIM * PTRATIO', data = boston)\n",
    "itr_result = itr_mod.fit(cov_type='HC3')\n",
    "print(itr_result.summary())"
   ]
  },
  {
   "cell_type": "markdown",
   "metadata": {},
   "source": [
    "### 4. Tabular representation of regression models\n",
    "\n",
    "Now let's run a full blown multivariate regression model with non-linear terms and make the output pretty, so you can display it in a report or on your website!"
   ]
  },
  {
   "cell_type": "code",
   "execution_count": 33,
   "metadata": {},
   "outputs": [
    {
     "name": "stdout",
     "output_type": "stream",
     "text": [
      "                            OLS Regression Results                            \n",
      "==============================================================================\n",
      "Dep. Variable:                   MEDV   R-squared:                       0.411\n",
      "Model:                            OLS   Adj. R-squared:                  0.405\n",
      "Method:                 Least Squares   F-statistic:                     79.11\n",
      "Date:                Tue, 10 Sep 2019   Prob (F-statistic):           4.67e-61\n",
      "Time:                        16:25:25   Log-Likelihood:                -1706.3\n",
      "No. Observations:                 506   AIC:                             3425.\n",
      "Df Residuals:                     500   BIC:                             3450.\n",
      "Df Model:                           5                                         \n",
      "Covariance Type:                  HC3                                         \n",
      "===============================================================================\n",
      "                  coef    std err          z      P>|z|      [0.025      0.975]\n",
      "-------------------------------------------------------------------------------\n",
      "Intercept      71.9034      6.978     10.305      0.000      58.227      85.580\n",
      "CRIM           -0.1311      0.032     -4.040      0.000      -0.195      -0.067\n",
      "PTRATIO        -1.6090      0.181     -8.906      0.000      -1.963      -1.255\n",
      "NOX           -22.5016      3.581     -6.284      0.000     -29.520     -15.483\n",
      "CHAS            5.2985      2.099      2.524      0.012       1.184       9.413\n",
      "np.log(TAX)    -1.1950      1.273     -0.939      0.348      -3.690       1.300\n",
      "==============================================================================\n",
      "Omnibus:                      167.772   Durbin-Watson:                   0.908\n",
      "Prob(Omnibus):                  0.000   Jarque-Bera (JB):              517.067\n",
      "Skew:                           1.573   Prob(JB):                    5.25e-113\n",
      "Kurtosis:                       6.825   Cond. No.                         394.\n",
      "==============================================================================\n",
      "\n",
      "Warnings:\n",
      "[1] Standard Errors are heteroscedasticity robust (HC3)\n"
     ]
    }
   ],
   "source": [
    "final_mod = smf.ols(formula='MEDV ~ CRIM + PTRATIO + NOX + CHAS + np.log(TAX)', data = boston)\n",
    "final_result = final_mod.fit(cov_type='HC3')\n",
    "print(final_result.summary())"
   ]
  },
  {
   "cell_type": "code",
   "execution_count": 34,
   "metadata": {},
   "outputs": [
    {
     "data": {
      "text/html": [
       "<div>\n",
       "<style scoped>\n",
       "    .dataframe tbody tr th:only-of-type {\n",
       "        vertical-align: middle;\n",
       "    }\n",
       "\n",
       "    .dataframe tbody tr th {\n",
       "        vertical-align: top;\n",
       "    }\n",
       "\n",
       "    .dataframe thead th {\n",
       "        text-align: right;\n",
       "    }\n",
       "</style>\n",
       "<table border=\"1\" class=\"dataframe\">\n",
       "  <thead>\n",
       "    <tr style=\"text-align: right;\">\n",
       "      <th></th>\n",
       "      <th>Coefficient</th>\n",
       "      <th>Standard Error</th>\n",
       "      <th>P-Value</th>\n",
       "    </tr>\n",
       "  </thead>\n",
       "  <tbody>\n",
       "    <tr>\n",
       "      <td>Intercept</td>\n",
       "      <td>71.903440</td>\n",
       "      <td>6.977769</td>\n",
       "      <td>6.713807e-25</td>\n",
       "    </tr>\n",
       "    <tr>\n",
       "      <td>CRIM</td>\n",
       "      <td>-0.131060</td>\n",
       "      <td>0.032443</td>\n",
       "      <td>5.350857e-05</td>\n",
       "    </tr>\n",
       "    <tr>\n",
       "      <td>PTRATIO</td>\n",
       "      <td>-1.608960</td>\n",
       "      <td>0.180658</td>\n",
       "      <td>5.286445e-19</td>\n",
       "    </tr>\n",
       "    <tr>\n",
       "      <td>NOX</td>\n",
       "      <td>-22.501600</td>\n",
       "      <td>3.580806</td>\n",
       "      <td>3.300824e-10</td>\n",
       "    </tr>\n",
       "    <tr>\n",
       "      <td>CHAS</td>\n",
       "      <td>5.298522</td>\n",
       "      <td>2.099072</td>\n",
       "      <td>1.159550e-02</td>\n",
       "    </tr>\n",
       "    <tr>\n",
       "      <td>np.log(TAX)</td>\n",
       "      <td>-1.194963</td>\n",
       "      <td>1.272767</td>\n",
       "      <td>3.477975e-01</td>\n",
       "    </tr>\n",
       "  </tbody>\n",
       "</table>\n",
       "</div>"
      ],
      "text/plain": [
       "             Coefficient  Standard Error       P-Value\n",
       "Intercept      71.903440        6.977769  6.713807e-25\n",
       "CRIM           -0.131060        0.032443  5.350857e-05\n",
       "PTRATIO        -1.608960        0.180658  5.286445e-19\n",
       "NOX           -22.501600        3.580806  3.300824e-10\n",
       "CHAS            5.298522        2.099072  1.159550e-02\n",
       "np.log(TAX)    -1.194963        1.272767  3.477975e-01"
      ]
     },
     "execution_count": 34,
     "metadata": {},
     "output_type": "execute_result"
    }
   ],
   "source": [
    "v_name = final_result.params.index\n",
    "result_df = pd.DataFrame(columns=['Coefficient','Standard Error','P-Value'], index = v_name)\n",
    "result_df['Coefficient'] = final_result.params\n",
    "result_df['Standard Error'] = final_result.bse\n",
    "result_df['P-Value'] = final_result.pvalues\n",
    "result_df"
   ]
  },
  {
   "cell_type": "markdown",
   "metadata": {},
   "source": [
    "#### <font color='blue'>EXCERCISE 5:</font> (BONUS exercise on multivariate regressions)\n",
    "\n",
    "<font color='blue'>a) Use the univariate regressions model from section 2, in combination with the Frisch-Waugh Theorem on multivariate regressions and show that you can estimate the effect of PTRATIO on house prices in the multivariate regression of house prices on CRIM, NOX, CHAS, log(TAX) and PTRATIO, by using three univariate regressions.</font>\n",
    "\n",
    " "
   ]
  },
  {
   "cell_type": "code",
   "execution_count": 35,
   "metadata": {},
   "outputs": [],
   "source": [
    "#Enter code\n",
    "boston['log_TAX'] = np.log(boston['TAX'])\n",
    "mod1 = smf.ols(formula='MEDV ~ CRIM + NOX + CHAS + log_TAX', data=boston)\n",
    "mod1_results = mod1.fit(cov_type='HC3')\n",
    "residuals = mod1_results.resid"
   ]
  },
  {
   "cell_type": "code",
   "execution_count": 36,
   "metadata": {},
   "outputs": [],
   "source": [
    "boston['residuals'] = residuals"
   ]
  },
  {
   "cell_type": "code",
   "execution_count": 37,
   "metadata": {},
   "outputs": [
    {
     "data": {
      "text/plain": [
       "0     -2.538009\n",
       "1      0.290198\n",
       "2      0.290198\n",
       "3      1.386324\n",
       "4      1.385544\n",
       "         ...   \n",
       "501    3.480351\n",
       "502    3.480720\n",
       "503    3.480391\n",
       "504    3.479352\n",
       "505    3.480675\n",
       "Length: 506, dtype: float64"
      ]
     },
     "execution_count": 37,
     "metadata": {},
     "output_type": "execute_result"
    }
   ],
   "source": [
    "mod2 = smf.ols(formula='PTRATIO ~ CRIM + NOX + CHAS + log_TAX', data=boston)\n",
    "mod2_results = mod2.fit(cov_type='HC3')\n",
    "residuals2 = mod2_results.resid\n",
    "boston['residuals2'] = residuals2\n",
    "residuals2"
   ]
  },
  {
   "cell_type": "code",
   "execution_count": 38,
   "metadata": {},
   "outputs": [],
   "source": [
    "mod3 = smf.ols(formula='residuals ~ residuals2', data=boston)"
   ]
  },
  {
   "cell_type": "markdown",
   "metadata": {},
   "source": [
    "<font color='blue'>b) Display results in a clean table as shown in section 4.</font>"
   ]
  },
  {
   "cell_type": "code",
   "execution_count": 39,
   "metadata": {},
   "outputs": [
    {
     "name": "stdout",
     "output_type": "stream",
     "text": [
      "                            OLS Regression Results                            \n",
      "==============================================================================\n",
      "Dep. Variable:              residuals   R-squared:                       0.161\n",
      "Model:                            OLS   Adj. R-squared:                  0.159\n",
      "Method:                 Least Squares   F-statistic:                     80.74\n",
      "Date:                Tue, 10 Sep 2019   Prob (F-statistic):           5.17e-18\n",
      "Time:                        16:25:25   Log-Likelihood:                -1706.3\n",
      "No. Observations:                 506   AIC:                             3417.\n",
      "Df Residuals:                     504   BIC:                             3425.\n",
      "Df Model:                           1                                         \n",
      "Covariance Type:                  HC3                                         \n",
      "==============================================================================\n",
      "                 coef    std err          z      P>|z|      [0.025      0.975]\n",
      "------------------------------------------------------------------------------\n",
      "Intercept   3.469e-15      0.315    1.1e-14      1.000      -0.617       0.617\n",
      "residuals2    -1.6090      0.179     -8.985      0.000      -1.960      -1.258\n",
      "==============================================================================\n",
      "Omnibus:                      167.772   Durbin-Watson:                   0.908\n",
      "Prob(Omnibus):                  0.000   Jarque-Bera (JB):              517.067\n",
      "Skew:                           1.573   Prob(JB):                    5.25e-113\n",
      "Kurtosis:                       6.825   Cond. No.                         1.92\n",
      "==============================================================================\n",
      "\n",
      "Warnings:\n",
      "[1] Standard Errors are heteroscedasticity robust (HC3)\n"
     ]
    }
   ],
   "source": [
    "#Enter code\n",
    "mod3_results = mod3.fit(cov_type='HC3')\n",
    "print(mod3_results.summary())"
   ]
  },
  {
   "cell_type": "markdown",
   "metadata": {},
   "source": [
    "<font color='blue'>c) Generate a scatter plot and regression graph as in section 2, but with the following stipulations:</font>\n",
    "* Values of residuals of a regression of median home prices on CRIM, NOX, CHAS, and log property taxes on the y-axis, called **yresid**\n",
    "* Values of residuals of a regression of PTRATIO on CRIM, NOX, CHAS, and log property taxes on the x-axis, called **xresid**\n",
    "* A fitted line of the regression of **yresid on xresid**"
   ]
  },
  {
   "cell_type": "code",
   "execution_count": 40,
   "metadata": {},
   "outputs": [
    {
     "data": {
      "image/png": "[encoded data removed]",
      "text/plain": [
       "<Figure size 432x288 with 1 Axes>"
      ]
     },
     "metadata": {
      "needs_background": "light"
     },
     "output_type": "display_data"
    }
   ],
   "source": [
    "#Enter code\n",
    "y_hat = mod3_results.predict()\n",
    "\n",
    "fig, ax = plt.subplots()\n",
    "ax.plot(boston['residuals2'], y_hat, color = 'red')\n",
    "ax.scatter(boston['residuals2'], boston['residuals'])\n",
    "plt.xlabel('xresid')\n",
    "plt.ylabel('yresid')\n",
    "plt.title('Frisch-Waugh Residuals for PTRATIO Estimation')\n",
    "plt.grid()"
   ]
  }
 ],
 "metadata": {
  "kernelspec": {
   "display_name": "venv",
   "language": "python",
   "name": "venv"
  },
  "language_info": {
   "codemirror_mode": {
    "name": "ipython",
    "version": 3
   },
   "file_extension": ".py",
   "mimetype": "text/x-python",
   "name": "python",
   "nbconvert_exporter": "python",
   "pygments_lexer": "ipython3",
   "version": "3.6.8"
  }
 },
 "nbformat": 4,
 "nbformat_minor": 2
}
